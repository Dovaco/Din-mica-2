{
 "cells": [
  {
   "cell_type": "markdown",
   "id": "3f73d060-c49a-46f4-9fb4-83b6389f5bfd",
   "metadata": {},
   "source": [
    "# Atividade Dinâmica 2"
   ]
  },
  {
   "cell_type": "code",
   "execution_count": 1,
   "id": "46d7220a-30aa-4f85-b100-bf7dd2f47cac",
   "metadata": {},
   "outputs": [],
   "source": [
    "import matplotlib.pyplot as plt\n",
    "import numpy as np"
   ]
  },
  {
   "cell_type": "code",
   "execution_count": 2,
   "id": "427129b0-ccc4-4a15-b52d-3f3ef5132ceb",
   "metadata": {},
   "outputs": [],
   "source": [
    "# corioli \n",
    "def corioli(ang):\n",
    "    F = 2 * (7.3 * (10 ** (-5))) * np.sin(ang)\n",
    "    return F"
   ]
  },
  {
   "cell_type": "code",
   "execution_count": 4,
   "id": "50ec5feb-a594-429f-8732-0588a8b15d63",
   "metadata": {},
   "outputs": [],
   "source": [
    "# volume \n",
    "def vol_vort(F,R,G):\n",
    "    v = (np.pi * (F ** 2) * R ** 4) / (16 * G)\n",
    "    return v"
   ]
  },
  {
   "cell_type": "code",
   "execution_count": 18,
   "id": "675188d3-b354-4a95-9b26-1274c7ad52f6",
   "metadata": {},
   "outputs": [
    {
     "name": "stdout",
     "output_type": "stream",
     "text": [
      "84723185515801.95 m³\n"
     ]
    }
   ],
   "source": [
    "#calculando:\n",
    "Fco = corioli(30)\n",
    "raio = 120000\n",
    "g = 10**(-2)\n",
    "rho = 1025\n",
    "\n",
    "volume = vol_vort(Fco,raio,g)\n",
    "print(volume,'m\\u00B3')"
   ]
  },
  {
   "cell_type": "code",
   "execution_count": 31,
   "id": "f53ad340-000c-4af9-a113-03e221880561",
   "metadata": {},
   "outputs": [
    {
     "name": "stdout",
     "output_type": "stream",
     "text": [
      "massa: 8.684126515369701e+16\n",
      "população: 8006200000.0\n",
      "Número de pessoas: 1085515814421212.6\n",
      "Vezes: 135584.39889350912\n",
      "-------------------------------------\n",
      "Tendo em vista a massa do vótice apresentado no exercício, a pop Mundial cabe aproximadamente 135584 no volume desse vórtice.\n"
     ]
    }
   ],
   "source": [
    "#massa e número de pessoa\n",
    "\n",
    "massa = rho * volume\n",
    "\n",
    "peso_med = 80 #kg\n",
    "\n",
    "n_pessoas = massa / peso_med\n",
    "\n",
    "pop_mundial = 8.0062 * ( 10 ** 9)\n",
    "\n",
    "vezes_pop = n_pessoas / pop_mundial\n",
    "print('massa:',massa)\n",
    "print('população:',pop_mundial)\n",
    "print('Número de pessoas:',n_pessoas)\n",
    "print('Vezes:',vezes_pop)\n",
    "print('-------------------------------------')\n",
    "print(f'Tendo em vista a massa do vórtice apresentado no exercício, a pop '\n",
    "      f'Mundial cabe aproximadamente {int(np.round(vezes_pop))} no volume desse vórtice.')"
   ]
  }
 ],
 "metadata": {
  "kernelspec": {
   "display_name": "Python 3 (ipykernel)",
   "language": "python",
   "name": "python3"
  },
  "language_info": {
   "codemirror_mode": {
    "name": "ipython",
    "version": 3
   },
   "file_extension": ".py",
   "mimetype": "text/x-python",
   "name": "python",
   "nbconvert_exporter": "python",
   "pygments_lexer": "ipython3",
   "version": "3.13.3"
  }
 },
 "nbformat": 4,
 "nbformat_minor": 5
}
